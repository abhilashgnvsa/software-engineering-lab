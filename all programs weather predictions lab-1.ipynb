{
  "nbformat": 4,
  "nbformat_minor": 0,
  "metadata": {
    "colab": {
      "provenance": [],
      "include_colab_link": true
    },
    "kernelspec": {
      "name": "python3",
      "display_name": "Python 3"
    },
    "language_info": {
      "name": "python"
    }
  },
  "cells": [
    {
      "cell_type": "markdown",
      "metadata": {
        "id": "view-in-github",
        "colab_type": "text"
      },
      "source": [
        "<a href=\"https://colab.research.google.com/github/abhilashgnvsa/software-engineering-lab/blob/main/all%20programs%20weather%20predictions%20lab-1.ipynb\" target=\"_parent\"><img src=\"https://colab.research.google.com/assets/colab-badge.svg\" alt=\"Open In Colab\"/></a>"
      ]
    },
    {
      "cell_type": "code",
      "execution_count": null,
      "metadata": {
        "colab": {
          "base_uri": "https://localhost:8080/"
        },
        "id": "t9uCICL5jFJx",
        "outputId": "54af7599-2cb1-438e-da5a-1c12a5d4401d"
      },
      "outputs": [
        {
          "output_type": "stream",
          "name": "stdout",
          "text": [
            "Enter Temperature-5\n",
            "Enter Humidity10\n",
            "Enter Wind Speed15\n",
            "Cloud\n"
          ]
        }
      ],
      "source": [
        "t=int(input('Enter Temperature'))\n",
        "h=int(input('Enter Humidity'))\n",
        "wind=int(input('Enter Wind Speed'))\n",
        "w=0.5*(t**2)-(0.2*h)+(0.1*wind)-15\n",
        "if w>10:\n",
        "  print(\"Sunny\")\n",
        "elif 0<=w and w<=10:\n",
        "  print(\"Windy\")\n",
        "elif -10<=w and w<0:\n",
        "  print(\"Cloud\")\n",
        "elif w<-10:\n",
        "  print(\"Rainy\")"
      ]
    },
    {
      "cell_type": "code",
      "source": [
        "with open('weather_input.txt', 'r') as file:\n",
        "    data = file.read().split()\n",
        "t = int(data[0])\n",
        "h = int(data[1])\n",
        "wind = int(data[2])\n",
        "w = 0.5 * (25 ** 2) - (0.2 * 30) + (0.1 * 10) - 15\n",
        "if w > 10:\n",
        "    print(\"Sunny\")\n",
        "elif 0 <= w <= 10:\n",
        "    print(\"Windy\")\n",
        "elif -10 <= w < 0:\n",
        "    print(\"Cloud\")\n",
        "elif w < -10:\n",
        "    print(\"Rainy\")"
      ],
      "metadata": {
        "colab": {
          "base_uri": "https://localhost:8080/"
        },
        "id": "K2m82GEPlGwl",
        "outputId": "02e3736f-d0b0-42ee-9b75-40ced7da1d9b"
      },
      "execution_count": 2,
      "outputs": [
        {
          "output_type": "stream",
          "name": "stdout",
          "text": [
            "Sunny\n"
          ]
        }
      ]
    },
    {
      "cell_type": "code",
      "source": [
        "\n",
        "t = 15\n",
        "h = 25\n",
        "wind =35\n",
        "w = 0.5 * (t ** 2) - (0.2 * h) + (0.1 * wind) - 15\n",
        "if w > 10:\n",
        "    print(\"Sunny\")\n",
        "elif 0 <= w <= 10:\n",
        "    print(\"Windy\")\n",
        "elif -10 <= w < 0:\n",
        "    print(\"Cloud\")\n",
        "elif w < -10:\n",
        "    print(\"Rainy\")"
      ],
      "metadata": {
        "colab": {
          "base_uri": "https://localhost:8080/"
        },
        "id": "yyEZQzjtkzpO",
        "outputId": "d00ac8c1-acc1-4173-db8f-41cea07b1f02"
      },
      "execution_count": null,
      "outputs": [
        {
          "output_type": "stream",
          "name": "stdout",
          "text": [
            "Sunny\n"
          ]
        }
      ]
    },
    {
      "cell_type": "code",
      "source": [
        "with open('weather_input.txt', 'r') as file:\n",
        "    lines = file.readlines()\n",
        "for line in lines:\n",
        "    data = line.split()\n",
        "    t = int(data[0])\n",
        "    h = int(data[1])\n",
        "    wind = int(data[2])\n",
        "    w = 0.5 * (t ** 2) - (0.2 * h) + (0.1 * wind) - 15\n",
        "    if w > 10:\n",
        "        print(\"Sunny\")\n",
        "    elif 0 <= w <= 10:\n",
        "        print(\"Windy\")\n",
        "    elif -10 <= w < 0:\n",
        "        print(\"Cloud\")\n",
        "    elif w < -10:\n",
        "        print(\"Rainy\")"
      ],
      "metadata": {
        "colab": {
          "base_uri": "https://localhost:8080/"
        },
        "id": "QLGP2yQ-nneK",
        "outputId": "fbecc8bc-93ed-4898-efbd-856331f7bfa7"
      },
      "execution_count": 3,
      "outputs": [
        {
          "output_type": "stream",
          "name": "stdout",
          "text": [
            "Cloud\n"
          ]
        }
      ]
    }
  ]
}