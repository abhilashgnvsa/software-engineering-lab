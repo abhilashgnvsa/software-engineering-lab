{
  "nbformat": 4,
  "nbformat_minor": 0,
  "metadata": {
    "colab": {
      "provenance": [],
      "authorship_tag": "ABX9TyPLRKmXxm/o84MUrCMg2lpx",
      "include_colab_link": true
    },
    "kernelspec": {
      "name": "python3",
      "display_name": "Python 3"
    },
    "language_info": {
      "name": "python"
    }
  },
  "cells": [
    {
      "cell_type": "markdown",
      "metadata": {
        "id": "view-in-github",
        "colab_type": "text"
      },
      "source": [
        "<a href=\"https://colab.research.google.com/github/abhilashgnvsa/software-engineering-lab/blob/main/all%20programs%20weather%20predictions%20lab-1.ipynb\" target=\"_parent\"><img src=\"https://colab.research.google.com/assets/colab-badge.svg\" alt=\"Open In Colab\"/></a>"
      ]
    },
    {
      "cell_type": "code",
      "execution_count": 1,
      "metadata": {
        "colab": {
          "base_uri": "https://localhost:8080/"
        },
        "id": "t9uCICL5jFJx",
        "outputId": "54af7599-2cb1-438e-da5a-1c12a5d4401d"
      },
      "outputs": [
        {
          "output_type": "stream",
          "name": "stdout",
          "text": [
            "Enter Temperature-5\n",
            "Enter Humidity10\n",
            "Enter Wind Speed15\n",
            "Cloud\n"
          ]
        }
      ],
      "source": [
        "t=int(input('Enter Temperature'))\n",
        "h=int(input('Enter Humidity'))\n",
        "wind=int(input('Enter Wind Speed'))\n",
        "w=0.5*(t**2)-(0.2*h)+(0.1*wind)-15\n",
        "if w>10:\n",
        "  print(\"Sunny\")\n",
        "elif 0<=w and w<=10:\n",
        "  print(\"Windy\")\n",
        "elif -10<=w and w<0:\n",
        "  print(\"Cloud\")\n",
        "elif w<-10:\n",
        "  print(\"Rainy\")"
      ]
    },
    {
      "cell_type": "code",
      "source": [
        "with open('weather_input.txt', 'r') as file:\n",
        "    data = file.read().split()\n",
        "t = int(data[0])\n",
        "h = int(data[1])\n",
        "wind = int(data[2])\n",
        "w = 0.5 * (25 ** 2) - (0.2 * 30) + (0.1 * 10) - 15\n",
        "if w > 10:\n",
        "    print(\"Sunny\")\n",
        "elif 0 <= w <= 10:\n",
        "    print(\"Windy\")\n",
        "elif -10 <= w < 0:\n",
        "    print(\"Cloud\")\n",
        "elif w < -10:\n",
        "    print(\"Rainy\")"
      ],
      "metadata": {
        "colab": {
          "base_uri": "https://localhost:8080/"
        },
        "id": "K2m82GEPlGwl",
        "outputId": "0668d5a9-6e68-4b59-bb52-a0106d091f6e"
      },
      "execution_count": 13,
      "outputs": [
        {
          "output_type": "stream",
          "name": "stdout",
          "text": [
            "Sunny\n"
          ]
        }
      ]
    },
    {
      "cell_type": "code",
      "source": [
        "\n",
        "t = 15\n",
        "h = 25\n",
        "wind =35\n",
        "w = 0.5 * (t ** 2) - (0.2 * h) + (0.1 * wind) - 15\n",
        "if w > 10:\n",
        "    print(\"Sunny\")\n",
        "elif 0 <= w <= 10:\n",
        "    print(\"Windy\")\n",
        "elif -10 <= w < 0:\n",
        "    print(\"Cloud\")\n",
        "elif w < -10:\n",
        "    print(\"Rainy\")"
      ],
      "metadata": {
        "colab": {
          "base_uri": "https://localhost:8080/"
        },
        "id": "yyEZQzjtkzpO",
        "outputId": "d00ac8c1-acc1-4173-db8f-41cea07b1f02"
      },
      "execution_count": 12,
      "outputs": [
        {
          "output_type": "stream",
          "name": "stdout",
          "text": [
            "Sunny\n"
          ]
        }
      ]
    },
    {
      "cell_type": "code",
      "source": [
        "with open('weather_input.txt', 'r') as file:\n",
        "    lines = file.readlines()\n",
        "for line in lines:\n",
        "    data = line.split()\n",
        "    t = int(data[0])\n",
        "    h = int(data[1])\n",
        "    wind = int(data[2])\n",
        "    w = 0.5 * (t ** 2) - (0.2 * h) + (0.1 * wind) - 15\n",
        "    if w > 10:\n",
        "        print(\"Sunny\")\n",
        "    elif 0 <= w <= 10:\n",
        "        print(\"Windy\")\n",
        "    elif -10 <= w < 0:\n",
        "        print(\"Cloud\")\n",
        "    elif w < -10:\n",
        "        print(\"Rainy\")"
      ],
      "metadata": {
        "colab": {
          "base_uri": "https://localhost:8080/"
        },
        "id": "QLGP2yQ-nneK",
        "outputId": "9e5e9d95-e890-4d5f-bb0e-e066bffe0cbc"
      },
      "execution_count": 20,
      "outputs": [
        {
          "output_type": "stream",
          "name": "stdout",
          "text": [
            "Sunny\n",
            "Sunny\n",
            "Sunny\n"
          ]
        }
      ]
    }
  ]
}