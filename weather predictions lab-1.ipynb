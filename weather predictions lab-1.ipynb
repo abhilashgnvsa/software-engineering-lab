{
  "nbformat": 4,
  "nbformat_minor": 0,
  "metadata": {
    "colab": {
      "provenance": [],
      "authorship_tag": "ABX9TyMy94eGsBZaIxS0pTsdneVs",
      "include_colab_link": true
    },
    "kernelspec": {
      "name": "python3",
      "display_name": "Python 3"
    },
    "language_info": {
      "name": "python"
    }
  },
  "cells": [
    {
      "cell_type": "markdown",
      "metadata": {
        "id": "view-in-github",
        "colab_type": "text"
      },
      "source": [
        "<a href=\"https://colab.research.google.com/github/abhilashgnvsa/software-engineering-lab/blob/main/weather%20predictions%20lab-1.ipynb\" target=\"_parent\"><img src=\"https://colab.research.google.com/assets/colab-badge.svg\" alt=\"Open In Colab\"/></a>"
      ]
    },
    {
      "cell_type": "code",
      "execution_count": 1,
      "metadata": {
        "colab": {
          "base_uri": "https://localhost:8080/"
        },
        "id": "t9uCICL5jFJx",
        "outputId": "54af7599-2cb1-438e-da5a-1c12a5d4401d"
      },
      "outputs": [
        {
          "output_type": "stream",
          "name": "stdout",
          "text": [
            "Enter Temperature-5\n",
            "Enter Humidity10\n",
            "Enter Wind Speed15\n",
            "Cloud\n"
          ]
        }
      ],
      "source": [
        "t=int(input('Enter Temperature'))\n",
        "h=int(input('Enter Humidity'))\n",
        "wind=int(input('Enter Wind Speed'))\n",
        "w=0.5*(t**2)-(0.2*h)+(0.1*wind)-15\n",
        "if w>10:\n",
        "  print(\"Sunny\")\n",
        "elif 0<=w and w<=10:\n",
        "  print(\"Windy\")\n",
        "elif -10<=w and w<0:\n",
        "  print(\"Cloud\")\n",
        "elif w<-10:\n",
        "  print(\"Rainy\")"
      ]
    }
  ]
}